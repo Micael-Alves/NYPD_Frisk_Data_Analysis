{
 "cells": [
  {
   "cell_type": "markdown",
   "metadata": {
    "nbgrader": {
     "cell_type": "markdown",
     "checksum": "c00172768b15c139efa24b89a2257795",
     "grade": false,
     "grade_id": "cell-aad0d9693d861220",
     "locked": true,
     "schema_version": 3,
     "solution": false,
     "task": false
    }
   },
   "source": [
    "# NYPD Data Analysis\n",
    "\n",
    "Goal of assignment is to download and inspect the Stop, Question and Frisk Data released by the New York Police Department every year."
   ]
  },
  {
   "cell_type": "markdown",
   "metadata": {
    "nbgrader": {
     "cell_type": "markdown",
     "checksum": "e4e57d7d5f7b31a9f906f2993b62595a",
     "grade": false,
     "grade_id": "cell-23891916bea649cb",
     "locked": true,
     "schema_version": 3,
     "solution": false,
     "task": false
    }
   },
   "source": [
    "## Some background\n",
    "\n",
    "The stop-question-and-frisk program, or stop-and-frisk, in New York City, is a New York City Police Department practice of temporarily detaining, questioning, and at times searching civilians and suspects on the street for weapons and other contraband. This policy allowed police officers to stop, interrogate and search New York City citizens on the sole basis of “reasonable suspicion” for several years.\n",
    "\n",
    "The stop-question-and-frisk program exploded into a national controversy during the mayoral administration of Michael Bloomberg, as the number of NYPD stops each year grew to hundreds of thousands. Most of the people stopped were black and Latino, and nearly all were innocent. \n",
    "\n",
    "<img src='https://www.dropbox.com/s/uo6rj86eqvnusfy/stopandfrisk.png?raw=1' width=700>\n",
    "\n",
    "In 1999, Blacks and Latinos made up 50 percent of New York’s population, but accounted for 84 percent of the city’s stops. Those statistics changed little in the following decade. Between 2004 and 2012, the New York Police Department made 4.4 million stops under the citywide policy. More than 80 percent of those stopped were Black and Latino people. The likelihood that a stopped African-American New Yorker yielded a weapon was half that of White New Yorkers stopped, and the likelihood of finding contraband on an African American who was stopped was one-third that of White New Yorkers stopped.\n",
    "\n",
    "Stop-and-frisk peaked in 2011, when NYPD officers reported making nearly 700,000 stops.\n",
    "\n",
    "In 2013, a federal judge found the New York City Police Department’s “Stop-and-Frisk” policy unconstitutional and ruled that NYPD’s stop-and-frisk tactics violate the U.S Constitution’s 4th Amendment prohibition of unreasonable searches and seizures.\n",
    "\n",
    "## Getting started\n",
    "\n",
    "Raw data records from the NYPD Stop, Question, and Frisk database are available for download at the following [link](https://www1.nyc.gov/site/nypd/stats/reports-analysis/stopfrisk.page). In this assignmnet we are going to use the data for the years 2003 through 2013. \n",
    "\n",
    "<div class=\"alert alert-warning\">The complete list of yearly files: <i>2003.csv</i>, <i>2004.csv</i>, <i>2005.csv</i>, <i>2006.csv</i>, <i>2007.csv</i>, <i>2008.csv</i>, <i>2009.csv</i>, <i>2010.csv</i>, <i>2011.csv</i>, <i>2012.csv</i> and <i>2013.csv</i>.</div>\n",
    "\n",
    "In addition to the above, two additional files have also been included in the same folder:\n",
    "\n",
    "- The file called <i>legend.xlsx</i> contains code books for all the variables listed for the different years.\n",
    "- The file called <i>precincts.csv</i> contains information about how the different police precincts that appear in the police records above are classified into boroughs.\n",
    "\n",
    "\n",
    "## Importing the data\n",
    "\n",
    "Once you are done downloading the databases and checking that everything is in order, let's begin by importing the stop-and-frisk data.\n",
    "\n",
    "<div class=\"alert alert-info\"><b>Task 1 </b>Write the code to read the data for each of the years and concatenate them all in a single DataFrame called <i>df</i>. This DataFrame should contain the data for the years 2003 through 2013 and the whole set of columns.</div>"
   ]
  },
  {
   "cell_type": "code",
   "execution_count": 1,
   "metadata": {
    "deletable": false,
    "nbgrader": {
     "cell_type": "code",
     "checksum": "efc4bcd719937afa2f831aa10bb16378",
     "grade": false,
     "grade_id": "cell-f9e30743663e4db6",
     "locked": false,
     "schema_version": 3,
     "solution": true,
     "task": false
    }
   },
   "outputs": [
    {
     "name": "stderr",
     "output_type": "stream",
     "text": [
      "C:\\ProgramData\\Anaconda3\\lib\\site-packages\\IPython\\core\\interactiveshell.py:3146: DtypeWarning: Columns (80,81,82,83,84) have mixed types.Specify dtype option on import or set low_memory=False.\n",
      "  has_raised = await self.run_ast_nodes(code_ast.body, cell_name,\n",
      "C:\\ProgramData\\Anaconda3\\lib\\site-packages\\IPython\\core\\interactiveshell.py:3146: DtypeWarning: Columns (4) have mixed types.Specify dtype option on import or set low_memory=False.\n",
      "  has_raised = await self.run_ast_nodes(code_ast.body, cell_name,\n",
      "C:\\ProgramData\\Anaconda3\\lib\\site-packages\\IPython\\core\\interactiveshell.py:3146: DtypeWarning: Columns (72,73,80,81,82,83,84) have mixed types.Specify dtype option on import or set low_memory=False.\n",
      "  has_raised = await self.run_ast_nodes(code_ast.body, cell_name,\n",
      "C:\\ProgramData\\Anaconda3\\lib\\site-packages\\IPython\\core\\interactiveshell.py:3146: DtypeWarning: Columns (72,73,96) have mixed types.Specify dtype option on import or set low_memory=False.\n",
      "  has_raised = await self.run_ast_nodes(code_ast.body, cell_name,\n",
      "C:\\ProgramData\\Anaconda3\\lib\\site-packages\\IPython\\core\\interactiveshell.py:3146: DtypeWarning: Columns (4,72,73,80,81,82,83,84) have mixed types.Specify dtype option on import or set low_memory=False.\n",
      "  has_raised = await self.run_ast_nodes(code_ast.body, cell_name,\n",
      "C:\\ProgramData\\Anaconda3\\lib\\site-packages\\IPython\\core\\interactiveshell.py:3146: DtypeWarning: Columns (4,72,73) have mixed types.Specify dtype option on import or set low_memory=False.\n",
      "  has_raised = await self.run_ast_nodes(code_ast.body, cell_name,\n",
      "C:\\ProgramData\\Anaconda3\\lib\\site-packages\\IPython\\core\\interactiveshell.py:3146: DtypeWarning: Columns (72) have mixed types.Specify dtype option on import or set low_memory=False.\n",
      "  has_raised = await self.run_ast_nodes(code_ast.body, cell_name,\n",
      "C:\\ProgramData\\Anaconda3\\lib\\site-packages\\IPython\\core\\interactiveshell.py:3146: DtypeWarning: Columns (72,73) have mixed types.Specify dtype option on import or set low_memory=False.\n",
      "  has_raised = await self.run_ast_nodes(code_ast.body, cell_name,\n",
      "C:\\ProgramData\\Anaconda3\\lib\\site-packages\\IPython\\core\\interactiveshell.py:3146: DtypeWarning: Columns (9,72) have mixed types.Specify dtype option on import or set low_memory=False.\n",
      "  has_raised = await self.run_ast_nodes(code_ast.body, cell_name,\n",
      "C:\\ProgramData\\Anaconda3\\lib\\site-packages\\IPython\\core\\interactiveshell.py:3146: DtypeWarning: Columns (9,72,81) have mixed types.Specify dtype option on import or set low_memory=False.\n",
      "  has_raised = await self.run_ast_nodes(code_ast.body, cell_name,\n"
     ]
    }
   ],
   "source": [
    "import pandas as pd\n",
    "\n",
    "import gc\n",
    "gc.enable()\n",
    "\n",
    "y2003 = pd.read_csv('2003.csv')\n",
    "y2004 = pd.read_csv('2004.csv')\n",
    "y2005 = pd.read_csv('2005.csv')\n",
    "y2006 = pd.read_csv('2006.csv')\n",
    "y2007 = pd.read_csv('2007.csv')\n",
    "y2008 = pd.read_csv('2008.csv')\n",
    "y2009 = pd.read_csv('2009.csv')\n",
    "y2010 = pd.read_csv('2010.csv')\n",
    "y2011 = pd.read_csv('2011.csv')\n",
    "y2012 = pd.read_csv('2012.csv')\n",
    "y2013 = pd.read_csv('2013.csv')\n",
    "legend = pd.read_excel('legend.xlsx')\n",
    "precincts = pd.read_csv('precincts.csv')"
   ]
  },
  {
   "cell_type": "code",
   "execution_count": 2,
   "metadata": {},
   "outputs": [],
   "source": [
    "df_temp = [y2003, y2004, y2005, y2006, y2007, y2008, y2009, y2010, y2011, y2012, y2013]  # List of your dataframes\n",
    "df = pd.concat(df_temp)"
   ]
  },
  {
   "cell_type": "markdown",
   "metadata": {
    "deletable": false,
    "editable": false,
    "nbgrader": {
     "cell_type": "markdown",
     "checksum": "c3a799925bd6509660a4ccabfac4c4b8",
     "grade": false,
     "grade_id": "cell-11a12c70d33484ad",
     "locked": true,
     "schema_version": 3,
     "solution": false,
     "task": false
    }
   },
   "source": [
    "The dabases contain information about a very long series of items. Here, we are only going to focus on some of them. Since our DataFrame is so big that it may already be slowing down your computer, let's remove those columns that we are not going to use.\n",
    "\n",
    "The list shown below contains the information we are interesting in, meaning the columns that you should retain."
   ]
  },
  {
   "cell_type": "code",
   "execution_count": null,
   "metadata": {},
   "outputs": [],
   "source": [
    "information = [\"YEAR OF STOP (CCYY)\", \"PRECINCT OF STOP (FROM 1 TO 123)\", \"WAS AN ARREST MADE ?\", \n",
    "               \"WAS A SUMMONS ISSUED ?\", \"WAS A PISTOL FOUND ON SUSPECT ?\", \"WAS A RIFLE FOUND ON SUSPECT ?\", \n",
    "               \"WAS AN ASSAULT WEAPON FOUND ON SUSPECT ?\", \"WAS A KNIFE OR CUTTING INSTRUMENT FOUND ON SUSPECT ?\",\n",
    "               \"WAS A MACHINE GUN FOUND ON SUSPECT ?\",\"WAS ANOTHER TYPE OF WEAPON FOUND ON SUSPECT\", \n",
    "               \"PHYSICAL FORCE USED BY OFFICER - HANDS\", \"PHYSICAL FORCE USED BY OFFICER - SUSPECT AGAINST WALL\",\n",
    "               \"PHYSICAL FORCE USED BY OFFICER - SUSPECT ON GROUND\", \"PHYSICAL FORCE USED BY OFFICER - WEAPON DRAWN\",\n",
    "               \"PHYSICAL FORCE USED BY OFFICER - WEAPON POINTED\", \"PHYSICAL FORCE USED BY OFFICER - BATON\",\n",
    "               \"PHYSICAL FORCE USED BY OFFICER - HANDCUFFS\", \"PHYSICAL FORCE USED BY OFFICER - PEPPER SPRAY\",\n",
    "               \"PHYSICAL FORCE USED BY OFFICER - OTHER\", \"SUSPECT'S RACE\"]"
   ]
  },
  {
   "cell_type": "markdown",
   "metadata": {
    "nbgrader": {
     "cell_type": "markdown",
     "checksum": "0fea6f9753d23766c557b46e1a5b2e39",
     "grade": false,
     "grade_id": "cell-8de26a449a6059a7",
     "locked": true,
     "schema_version": 3,
     "solution": false,
     "task": false
    }
   },
   "source": [
    "<div class=\"alert alert-info\"><b>Task 2 </b>Write the code to identify the columns that contain the information above and remove all the other columns from your <i>df</i> DataFrame. Don't modify neither the name of the Dataframe nor any of the column names when doing so.</div>"
   ]
  },
  {
   "cell_type": "code",
   "execution_count": 3,
   "metadata": {
    "deletable": false,
    "nbgrader": {
     "cell_type": "code",
     "checksum": "d6e86f11bc9b5b1ffb5c34ea4e177951",
     "grade": false,
     "grade_id": "cell-98886756073be944",
     "locked": false,
     "schema_version": 3,
     "solution": true,
     "task": false
    }
   },
   "outputs": [],
   "source": [
    "for i in df_temp:\n",
    "    i.drop(['ser_num', 'datestop', 'timestop', 'inout', 'trhsloc',\n",
    "           'perobs', 'crimsusp', 'perstop', 'typeofid', 'explnstp', 'othpers',\n",
    "           'arstoffn', 'sumoffen', 'compyear', 'comppct', 'offunif', 'officrid','frisked',\n",
    "            'searched', 'contrabn', 'adtlrept', 'radio', 'ac_rept', 'ac_inves',\n",
    "           'rf_vcrim', 'rf_othsw', 'ac_proxm', 'rf_attir', 'cs_objcs', 'cs_descr',\n",
    "           'cs_casng', 'cs_lkout', 'rf_vcact', 'cs_cloth', 'cs_drgtr', 'ac_evasv',\n",
    "           'ac_assoc', 'cs_furtv', 'rf_rfcmp', 'ac_cgdir', 'rf_verbl', 'cs_vcrim',\n",
    "           'cs_bulge', 'cs_other', 'ac_incid', 'ac_time', 'rf_knowl', 'ac_stsnd',\n",
    "           'ac_other', 'sb_hdobj', 'sb_outln', 'sb_admis', 'sb_other', 'repcmd',\n",
    "           'revcmd', 'rf_furt', 'rf_bulg', 'offverb', 'offshld', 'sex',\n",
    "           'dob', 'age', 'ht_feet', 'ht_inch', 'weight', 'haircolr', 'eyecolor',\n",
    "           'build', 'othfeatr', 'addrtyp', 'crossst', 'aptnum', 'city', 'state',\n",
    "           'zip', 'sector', 'beat', 'post', 'xcoord', 'ycoord'], axis=1, inplace=True)\n",
    "df = pd.concat(df_temp, ignore_index=True)"
   ]
  },
  {
   "cell_type": "markdown",
   "metadata": {
    "nbgrader": {
     "cell_type": "markdown",
     "checksum": "85bb98031553bdfb6ed26108380dee8e",
     "grade": false,
     "grade_id": "cell-d9e35ea97e94a55f",
     "locked": true,
     "schema_version": 3,
     "solution": false,
     "task": false
    }
   },
   "source": [
    "## Pre-processing the data\n",
    "\n",
    "Since there are too many different precincts for us to make sense of these data, let's add in the information about the boroughs in order to identify where the different stops took place.\n",
    "\n",
    "<div class=\"alert alert-info\"><b>Task 3 </b>Write the code to create a new column called <i>boro</i>. This column should contain the name of the borough that corresponds to the precinct of each entry in your <i>df</i> DataFrame. By the end of this exercise only the <i> boro</i> column should be added to <i>df</i>.</div>"
   ]
  },
  {
   "cell_type": "code",
   "execution_count": 6,
   "metadata": {
    "deletable": false,
    "nbgrader": {
     "cell_type": "code",
     "checksum": "ab9c49bbff217cfcd1fbcb9707d8819a",
     "grade": false,
     "grade_id": "cell-790e47ed14d5a38b",
     "locked": false,
     "schema_version": 3,
     "solution": true,
     "task": false
    }
   },
   "outputs": [],
   "source": [
    "df=pd.merge(df, precincts, how='left', left_on=\"pct\", right_on=\"Precinct\")\n",
    "df.drop(\"Precinct\", axis=1, inplace=True)\n",
    "df.rename(columns={\"Borough\":\"boro\"}, inplace=True)"
   ]
  },
  {
   "cell_type": "markdown",
   "metadata": {},
   "source": [
    "Let's further filter down these data. Some of the columns store very similar data. For example, lots of the columns refer to *PHYSICAL FORCE USED BY OFFICER*. Since we are not interested in the specific form of force used, but rather on the existence of such force, let's aggregate the information for these columns.\n",
    "\n",
    "<div class=\"alert alert-info\"><b>Task 4 </b>Write the code to create a new column called <i>physical_force</i>. This column should take the value 1 in <b>int</b> form if any of the columns <i>pf_hands</i>, <i>pf_wall</i>, <i>pf_grnd</i>, <i>pf_drwep</i>, <i>pf_ptwep</i>, <i>pf_baton</i>, <i>pf_hcuff</i>, <i>pf_pepsp</i> or <i>pf_other</i> is encoded as \"Y\", meaning that the corresponding force was used. Otherwise, the new column should take the value 0 in <b>int</b> form.</div>"
   ]
  },
  {
   "cell_type": "code",
   "execution_count": 8,
   "metadata": {
    "deletable": false,
    "nbgrader": {
     "cell_type": "code",
     "checksum": "95f42a2f3c024cb9c13194eee572db77",
     "grade": false,
     "grade_id": "cell-ccfa8a62ed7be845",
     "locked": false,
     "schema_version": 3,
     "solution": true,
     "task": false
    }
   },
   "outputs": [],
   "source": [
    "import numpy as np\n",
    "\n",
    "pf=np.where(df[[\"pf_hands\",\"pf_wall\",\"pf_grnd\",\"pf_drwep\",\"pf_ptwep\",\"pf_hcuff\",\"pf_pepsp\",\"pf_other\"]]==\"Y\", 1, 0)\n",
    "physical_force=[]\n",
    "for i in range(len(pf)):\n",
    "    if 1 in pf[i]:\n",
    "        physical_force.append(1)\n",
    "    else:\n",
    "        physical_force.append(0)\n",
    "df[\"physical_force\"]=physical_force"
   ]
  },
  {
   "cell_type": "markdown",
   "metadata": {
    "nbgrader": {
     "cell_type": "markdown",
     "checksum": "254cf10bbeeb78fbe30e8a840f50026d",
     "grade": false,
     "grade_id": "cell-c4ae57fb82c91f86",
     "locked": true,
     "schema_version": 3,
     "solution": false,
     "task": false
    }
   },
   "source": [
    "The same thing happens with a set of columns that contain the phrase WAS A - FOUND ON SUSPECT ?. Once again, we are not interested in the actual type of weapon found, but on whether a weapon was indeed found on the suspect. Hence, let's aggregate all these data into a single column.\n",
    "\n",
    "<div class=\"alert alert-info\"><b>Task 5 </b>Write the code to create a new column called <i>weapons</i>. This column should take the value 1 in <b>int</b> form if any of the columns <i>pistol</i>, <i>riflshot</i>, <i>asltweap</i>, <i>knifcuti</i>, <i>machgun</i> or <i>othrweap</i> is encoded as \"Y\", meaning that some weapon was found on the suspect. Otherwise, the new column should take the value 0 in <b>int</b> form. As before, numpy has already been imported for you in case you want to use the <i>where</i> method.</div>"
   ]
  },
  {
   "cell_type": "code",
   "execution_count": 9,
   "metadata": {
    "deletable": false,
    "nbgrader": {
     "cell_type": "code",
     "checksum": "e4f18524eaad30e40ad1ea26cb7dba36",
     "grade": false,
     "grade_id": "cell-2288d1226defffb6",
     "locked": false,
     "schema_version": 3,
     "solution": true,
     "task": false
    }
   },
   "outputs": [],
   "source": [
    "import numpy as np\n",
    "weapons=[]\n",
    "weapon_presence=np.where(df[['pistol', 'riflshot', 'asltweap', 'knifcuti', 'machgun', 'othrweap']]==\"Y\", 1, 0)\n",
    "for i in range(len(weapon_presence)):\n",
    "    if 1 in weapon_presence[i]:\n",
    "        weapons.append(1)\n",
    "    else:\n",
    "        weapons.append(0)\n",
    "df['weapons']=weapons"
   ]
  },
  {
   "cell_type": "markdown",
   "metadata": {
    "nbgrader": {
     "cell_type": "markdown",
     "checksum": "779c2708e454f07b84aad1b88384f98f",
     "grade": false,
     "grade_id": "cell-fb913f211e129b29",
     "locked": true,
     "schema_version": 3,
     "solution": false,
     "task": false
    }
   },
   "source": [
    "Finally, let's also aggregate the data about whether an arrest was made. We'll consider that an arrest took place if an arrest was actually made or is a summons was issued, or both.\n",
    "\n",
    "<div class=\"alert alert-info\"><b>Task 6 </b>Write the code to create a new column called <i>arrest</i>. This column should take the value 1 in <b>int</b> form if any of the columns <i>arstmade</i> or <i>sumissue</i> is encoded as \"Y\", meaning that some weapon was found on the suspect. Otherwise, the new column should take the value 0 in <b>int</b> form. As before, numpy has already been imported for you in case you want to use the <i>where</i> method.</div>"
   ]
  },
  {
   "cell_type": "code",
   "execution_count": 10,
   "metadata": {
    "deletable": false,
    "nbgrader": {
     "cell_type": "code",
     "checksum": "e5c1c89cdaaa9f68b1f66f1a63f9ecee",
     "grade": false,
     "grade_id": "cell-c86edec4482b7a88",
     "locked": false,
     "schema_version": 3,
     "solution": true,
     "task": false
    }
   },
   "outputs": [],
   "source": [
    "import numpy as np\n",
    "arrest=[]\n",
    "arrest_presence=np.where(df[['arstmade', 'sumissue']]==\"Y\", 1, 0)\n",
    "for i in range(len(arrest_presence)):\n",
    "    if 1 in arrest_presence[i]:\n",
    "        arrest.append(1)\n",
    "    else:\n",
    "        arrest.append(0)\n",
    "df[\"arrest\"]=arrest"
   ]
  },
  {
   "cell_type": "markdown",
   "metadata": {
    "nbgrader": {
     "cell_type": "markdown",
     "checksum": "3a2423261ec2905c91653fade104cb15",
     "grade": false,
     "grade_id": "cell-9823873799a6afd9",
     "locked": true,
     "schema_version": 3,
     "solution": false,
     "task": false
    }
   },
   "source": [
    "Finally, let's remove redundant information.\n",
    "\n",
    "<div class=\"alert alert-info\"><b>Task 7 </b>Write the code to remove columns <i>pct</i>, <i>pf_hands</i>, <i>pf_wall</i>, <i>pf_grnd</i>, <i>pf_drwep</i>, <i>pf_ptwep</i>, <i>pf_baton</i>, <i>pf_hcuff</i>, <i>pf_pepsp</i>, <i>pf_other</i>, <i>pistol</i>, <i>riflshot</i>, <i>asltweap</i>, <i>knifcuti</i>, <i>machgun</i>, <i>othrweap</i>, <i>arstmade</i> and <i>sumissue</i> from your DataFrame <i>df</i>.</div>"
   ]
  },
  {
   "cell_type": "code",
   "execution_count": 14,
   "metadata": {
    "deletable": false,
    "nbgrader": {
     "cell_type": "code",
     "checksum": "3ed4e7311137a29575b84a60481a63ec",
     "grade": false,
     "grade_id": "cell-e5c707f2da86ad42",
     "locked": false,
     "schema_version": 3,
     "solution": true,
     "task": false
    }
   },
   "outputs": [
    {
     "ename": "KeyError",
     "evalue": "\"['pct' 'pf_hands' 'pf_wall' 'pf_grnd' 'pf_drwep' 'pf_ptwep' 'pf_baton'\\n 'pf_hcuff' 'pf_pepsp' 'pf_other' 'pistol' 'riflshot' 'asltweap'\\n 'knifcuti' 'machgun' 'othrweap' 'arstmade' 'sumissue'] not found in axis\"",
     "output_type": "error",
     "traceback": [
      "\u001b[1;31m---------------------------------------------------------------------------\u001b[0m",
      "\u001b[1;31mKeyError\u001b[0m                                  Traceback (most recent call last)",
      "\u001b[1;32m<ipython-input-14-54257198aa32>\u001b[0m in \u001b[0;36m<module>\u001b[1;34m\u001b[0m\n\u001b[1;32m----> 1\u001b[1;33m df.drop([\"pct\", \"pf_hands\", \"pf_wall\", \"pf_grnd\", \"pf_drwep\", \"pf_ptwep\", \"pf_baton\", \"pf_hcuff\", \"pf_pepsp\", \n\u001b[0m\u001b[0;32m      2\u001b[0m           \"pf_other\", \"pistol\", \"riflshot\", \"asltweap\", \"knifcuti\", \"machgun\", \"othrweap\", \"arstmade\", \"sumissue\"], axis=1, inplace=True)\n",
      "\u001b[1;32mC:\\ProgramData\\Anaconda3\\lib\\site-packages\\pandas\\core\\frame.py\u001b[0m in \u001b[0;36mdrop\u001b[1;34m(self, labels, axis, index, columns, level, inplace, errors)\u001b[0m\n\u001b[0;32m   4161\u001b[0m                 \u001b[0mweight\u001b[0m  \u001b[1;36m1.0\u001b[0m     \u001b[1;36m0.8\u001b[0m\u001b[1;33m\u001b[0m\u001b[1;33m\u001b[0m\u001b[0m\n\u001b[0;32m   4162\u001b[0m         \"\"\"\n\u001b[1;32m-> 4163\u001b[1;33m         return super().drop(\n\u001b[0m\u001b[0;32m   4164\u001b[0m             \u001b[0mlabels\u001b[0m\u001b[1;33m=\u001b[0m\u001b[0mlabels\u001b[0m\u001b[1;33m,\u001b[0m\u001b[1;33m\u001b[0m\u001b[1;33m\u001b[0m\u001b[0m\n\u001b[0;32m   4165\u001b[0m             \u001b[0maxis\u001b[0m\u001b[1;33m=\u001b[0m\u001b[0maxis\u001b[0m\u001b[1;33m,\u001b[0m\u001b[1;33m\u001b[0m\u001b[1;33m\u001b[0m\u001b[0m\n",
      "\u001b[1;32mC:\\ProgramData\\Anaconda3\\lib\\site-packages\\pandas\\core\\generic.py\u001b[0m in \u001b[0;36mdrop\u001b[1;34m(self, labels, axis, index, columns, level, inplace, errors)\u001b[0m\n\u001b[0;32m   3885\u001b[0m         \u001b[1;32mfor\u001b[0m \u001b[0maxis\u001b[0m\u001b[1;33m,\u001b[0m \u001b[0mlabels\u001b[0m \u001b[1;32min\u001b[0m \u001b[0maxes\u001b[0m\u001b[1;33m.\u001b[0m\u001b[0mitems\u001b[0m\u001b[1;33m(\u001b[0m\u001b[1;33m)\u001b[0m\u001b[1;33m:\u001b[0m\u001b[1;33m\u001b[0m\u001b[1;33m\u001b[0m\u001b[0m\n\u001b[0;32m   3886\u001b[0m             \u001b[1;32mif\u001b[0m \u001b[0mlabels\u001b[0m \u001b[1;32mis\u001b[0m \u001b[1;32mnot\u001b[0m \u001b[1;32mNone\u001b[0m\u001b[1;33m:\u001b[0m\u001b[1;33m\u001b[0m\u001b[1;33m\u001b[0m\u001b[0m\n\u001b[1;32m-> 3887\u001b[1;33m                 \u001b[0mobj\u001b[0m \u001b[1;33m=\u001b[0m \u001b[0mobj\u001b[0m\u001b[1;33m.\u001b[0m\u001b[0m_drop_axis\u001b[0m\u001b[1;33m(\u001b[0m\u001b[0mlabels\u001b[0m\u001b[1;33m,\u001b[0m \u001b[0maxis\u001b[0m\u001b[1;33m,\u001b[0m \u001b[0mlevel\u001b[0m\u001b[1;33m=\u001b[0m\u001b[0mlevel\u001b[0m\u001b[1;33m,\u001b[0m \u001b[0merrors\u001b[0m\u001b[1;33m=\u001b[0m\u001b[0merrors\u001b[0m\u001b[1;33m)\u001b[0m\u001b[1;33m\u001b[0m\u001b[1;33m\u001b[0m\u001b[0m\n\u001b[0m\u001b[0;32m   3888\u001b[0m \u001b[1;33m\u001b[0m\u001b[0m\n\u001b[0;32m   3889\u001b[0m         \u001b[1;32mif\u001b[0m \u001b[0minplace\u001b[0m\u001b[1;33m:\u001b[0m\u001b[1;33m\u001b[0m\u001b[1;33m\u001b[0m\u001b[0m\n",
      "\u001b[1;32mC:\\ProgramData\\Anaconda3\\lib\\site-packages\\pandas\\core\\generic.py\u001b[0m in \u001b[0;36m_drop_axis\u001b[1;34m(self, labels, axis, level, errors)\u001b[0m\n\u001b[0;32m   3919\u001b[0m                 \u001b[0mnew_axis\u001b[0m \u001b[1;33m=\u001b[0m \u001b[0maxis\u001b[0m\u001b[1;33m.\u001b[0m\u001b[0mdrop\u001b[0m\u001b[1;33m(\u001b[0m\u001b[0mlabels\u001b[0m\u001b[1;33m,\u001b[0m \u001b[0mlevel\u001b[0m\u001b[1;33m=\u001b[0m\u001b[0mlevel\u001b[0m\u001b[1;33m,\u001b[0m \u001b[0merrors\u001b[0m\u001b[1;33m=\u001b[0m\u001b[0merrors\u001b[0m\u001b[1;33m)\u001b[0m\u001b[1;33m\u001b[0m\u001b[1;33m\u001b[0m\u001b[0m\n\u001b[0;32m   3920\u001b[0m             \u001b[1;32melse\u001b[0m\u001b[1;33m:\u001b[0m\u001b[1;33m\u001b[0m\u001b[1;33m\u001b[0m\u001b[0m\n\u001b[1;32m-> 3921\u001b[1;33m                 \u001b[0mnew_axis\u001b[0m \u001b[1;33m=\u001b[0m \u001b[0maxis\u001b[0m\u001b[1;33m.\u001b[0m\u001b[0mdrop\u001b[0m\u001b[1;33m(\u001b[0m\u001b[0mlabels\u001b[0m\u001b[1;33m,\u001b[0m \u001b[0merrors\u001b[0m\u001b[1;33m=\u001b[0m\u001b[0merrors\u001b[0m\u001b[1;33m)\u001b[0m\u001b[1;33m\u001b[0m\u001b[1;33m\u001b[0m\u001b[0m\n\u001b[0m\u001b[0;32m   3922\u001b[0m             \u001b[0mresult\u001b[0m \u001b[1;33m=\u001b[0m \u001b[0mself\u001b[0m\u001b[1;33m.\u001b[0m\u001b[0mreindex\u001b[0m\u001b[1;33m(\u001b[0m\u001b[1;33m**\u001b[0m\u001b[1;33m{\u001b[0m\u001b[0maxis_name\u001b[0m\u001b[1;33m:\u001b[0m \u001b[0mnew_axis\u001b[0m\u001b[1;33m}\u001b[0m\u001b[1;33m)\u001b[0m\u001b[1;33m\u001b[0m\u001b[1;33m\u001b[0m\u001b[0m\n\u001b[0;32m   3923\u001b[0m \u001b[1;33m\u001b[0m\u001b[0m\n",
      "\u001b[1;32mC:\\ProgramData\\Anaconda3\\lib\\site-packages\\pandas\\core\\indexes\\base.py\u001b[0m in \u001b[0;36mdrop\u001b[1;34m(self, labels, errors)\u001b[0m\n\u001b[0;32m   5280\u001b[0m         \u001b[1;32mif\u001b[0m \u001b[0mmask\u001b[0m\u001b[1;33m.\u001b[0m\u001b[0many\u001b[0m\u001b[1;33m(\u001b[0m\u001b[1;33m)\u001b[0m\u001b[1;33m:\u001b[0m\u001b[1;33m\u001b[0m\u001b[1;33m\u001b[0m\u001b[0m\n\u001b[0;32m   5281\u001b[0m             \u001b[1;32mif\u001b[0m \u001b[0merrors\u001b[0m \u001b[1;33m!=\u001b[0m \u001b[1;34m\"ignore\"\u001b[0m\u001b[1;33m:\u001b[0m\u001b[1;33m\u001b[0m\u001b[1;33m\u001b[0m\u001b[0m\n\u001b[1;32m-> 5282\u001b[1;33m                 \u001b[1;32mraise\u001b[0m \u001b[0mKeyError\u001b[0m\u001b[1;33m(\u001b[0m\u001b[1;34mf\"{labels[mask]} not found in axis\"\u001b[0m\u001b[1;33m)\u001b[0m\u001b[1;33m\u001b[0m\u001b[1;33m\u001b[0m\u001b[0m\n\u001b[0m\u001b[0;32m   5283\u001b[0m             \u001b[0mindexer\u001b[0m \u001b[1;33m=\u001b[0m \u001b[0mindexer\u001b[0m\u001b[1;33m[\u001b[0m\u001b[1;33m~\u001b[0m\u001b[0mmask\u001b[0m\u001b[1;33m]\u001b[0m\u001b[1;33m\u001b[0m\u001b[1;33m\u001b[0m\u001b[0m\n\u001b[0;32m   5284\u001b[0m         \u001b[1;32mreturn\u001b[0m \u001b[0mself\u001b[0m\u001b[1;33m.\u001b[0m\u001b[0mdelete\u001b[0m\u001b[1;33m(\u001b[0m\u001b[0mindexer\u001b[0m\u001b[1;33m)\u001b[0m\u001b[1;33m\u001b[0m\u001b[1;33m\u001b[0m\u001b[0m\n",
      "\u001b[1;31mKeyError\u001b[0m: \"['pct' 'pf_hands' 'pf_wall' 'pf_grnd' 'pf_drwep' 'pf_ptwep' 'pf_baton'\\n 'pf_hcuff' 'pf_pepsp' 'pf_other' 'pistol' 'riflshot' 'asltweap'\\n 'knifcuti' 'machgun' 'othrweap' 'arstmade' 'sumissue'] not found in axis\""
     ]
    }
   ],
   "source": [
    "df.drop([\"pct\", \"pf_hands\", \"pf_wall\", \"pf_grnd\", \"pf_drwep\", \"pf_ptwep\", \"pf_baton\", \"pf_hcuff\", \"pf_pepsp\", \n",
    "          \"pf_other\", \"pistol\", \"riflshot\", \"asltweap\", \"knifcuti\", \"machgun\", \"othrweap\", \"arstmade\", \"sumissue\"], axis=1, inplace=True)"
   ]
  },
  {
   "cell_type": "code",
   "execution_count": 15,
   "metadata": {},
   "outputs": [
    {
     "data": {
      "text/plain": [
       "Index(['year', 'race', 'boro', 'physical_force', 'weapons', 'arrest'], dtype='object')"
      ]
     },
     "execution_count": 15,
     "metadata": {},
     "output_type": "execute_result"
    }
   ],
   "source": [
    "df.columns"
   ]
  },
  {
   "cell_type": "markdown",
   "metadata": {
    "nbgrader": {
     "cell_type": "markdown",
     "checksum": "575d7665d9127ae62c3f6e2118215e50",
     "grade": false,
     "grade_id": "cell-182a58b1f3a15db2",
     "locked": true,
     "schema_version": 3,
     "solution": false,
     "task": false
    }
   },
   "source": [
    "Now that we have aggregated the data for several columns and removed all the extra ones, the final thing left to do is to pre-process the <i>race</i> column. We will begin by changing the name of the column and we will then group  the different values of this column into larger categories. \n",
    "\n",
    "The meaning of each of the letter codes in the <i>race</i> column is shown below, as stated in the documentation provided by NYPD:\n",
    "\n",
    "- ' ' Not listed\n",
    "- 'A' Asian/Pacific Islander\n",
    "- 'B' Black\n",
    "- 'I' American Indian/Alaskan native\n",
    "- 'P' Black-Hispanic\n",
    "- 'Q' White-Hispanic\n",
    "- 'W' White\n",
    "- 'X' Unknown\n",
    "- 'Z' Other\n",
    "- 'U' Unknown\n",
    "\n",
    "<div class=\"alert alert-info\"><b>Task 8 </b>Write the code to rename the <i>race</i> column as <i>ethnicity</i>. Then write the code to modify the values of your <i>ethnicity</i> column. This column should take the value 'Black' if the original record was encoded as Black or Black-Hispanic. It should take the value 'White' if the original record was encoded as White or White-Hispanic. It should take the value 'Asian' if the original record was encoded as Asian/Pacific Islander. It should take the value 'Other' if the original record was encoded as American Indian/Alaskan native, Other, Unknown or Not listed.</div>"
   ]
  },
  {
   "cell_type": "code",
   "execution_count": 16,
   "metadata": {},
   "outputs": [],
   "source": [
    "df.rename(columns={\"race\":\"ethnicity\"}, inplace=True)"
   ]
  },
  {
   "cell_type": "code",
   "execution_count": 17,
   "metadata": {},
   "outputs": [
    {
     "data": {
      "text/plain": [
       "Index(['year', 'ethnicity', 'boro', 'physical_force', 'weapons', 'arrest'], dtype='object')"
      ]
     },
     "execution_count": 17,
     "metadata": {},
     "output_type": "execute_result"
    }
   ],
   "source": [
    "df.columns"
   ]
  },
  {
   "cell_type": "code",
   "execution_count": 18,
   "metadata": {
    "deletable": false,
    "nbgrader": {
     "cell_type": "code",
     "checksum": "859a4231530bfa246bf5ba2e1afe479a",
     "grade": false,
     "grade_id": "cell-f02815ee5d196ea1",
     "locked": false,
     "schema_version": 3,
     "solution": true,
     "task": false
    }
   },
   "outputs": [],
   "source": [
    "#black\n",
    "black_B=np.where(df[\"ethnicity\"]==\"B\",1,0)\n",
    "black_P=np.where(df[\"ethnicity\"]==\"P\",1,0)\n",
    "#asian\n",
    "asian=np.where(df[\"ethnicity\"]==\"A\",1,0)\n",
    "#white\n",
    "white_W=np.where(df[\"ethnicity\"]==\"W\",1,0)\n",
    "white_Q=np.where(df[\"ethnicity\"]==\"Q\",1,0)\n",
    "#other\n",
    "#other_NL=np.where(df[\"ethnicity\"]==\" \",1,0)\n",
    "#other_U=np.where(df[\"ethnicity\"]==\"U\",1,0)\n",
    "#other_Z=np.where(df[\"ethnicity\"]==\"Z\",1,0)\n",
    "#other_X=np.where(df[\"ethnicity\"]==\"X\",1,0)\n",
    "#other_I=np.where(df[\"ethnicity\"]==\"I\",1,0)\n",
    "\n",
    "#it works, it took some time but it worked\n",
    "for i in range(len(df)):\n",
    "    if black_B[i]==1:\n",
    "        df.at[i,\"ethnicity\"]=\"Black\"\n",
    "    elif black_P[i]==1:\n",
    "        df.at[i,\"ethnicity\"]=\"Black\"\n",
    "    elif asian[i]==1:\n",
    "        df.at[i,\"ethnicity\"]=\"Asian\"\n",
    "    elif white_Q[i]==1:\n",
    "        df.at[i,\"ethnicity\"]=\"White\"\n",
    "    elif white_W[i]==1:\n",
    "        df.at[i,\"ethnicity\"]=\"White\"\n",
    "    else:\n",
    "        df.at[i,\"ethnicity\"]=\"Other\""
   ]
  },
  {
   "cell_type": "code",
   "execution_count": 19,
   "metadata": {},
   "outputs": [
    {
     "data": {
      "text/plain": [
       "array(['Black', 'White', 'Other', 'Asian'], dtype=object)"
      ]
     },
     "execution_count": 19,
     "metadata": {},
     "output_type": "execute_result"
    }
   ],
   "source": [
    "df[\"ethnicity\"].unique()"
   ]
  },
  {
   "cell_type": "markdown",
   "metadata": {
    "nbgrader": {
     "cell_type": "markdown",
     "checksum": "1d2acfd60fe2ceae4b234c8e22c84e17",
     "grade": false,
     "grade_id": "cell-896982c23c1c89db",
     "locked": true,
     "schema_version": 3,
     "solution": false,
     "task": false
    }
   },
   "source": [
    "Saving the current dataframe to be able to restart from this point of view."
   ]
  },
  {
   "cell_type": "code",
   "execution_count": 20,
   "metadata": {},
   "outputs": [],
   "source": [
    "df.to_csv(\"police_stats.csv\", index=False)"
   ]
  },
  {
   "cell_type": "markdown",
   "metadata": {
    "deletable": false,
    "editable": false,
    "nbgrader": {
     "cell_type": "markdown",
     "checksum": "84de5192a5000b0766c06835096926ec",
     "grade": false,
     "grade_id": "cell-73e52e24ad816f26",
     "locked": true,
     "schema_version": 3,
     "solution": false,
     "task": false
    }
   },
   "source": [
    "## Visualizing the data\n",
    "\n",
    "Now that we have finished preparing the data let's visualize it.\n",
    "\n",
    "The following exercises will each consist of two parts. The first part is focused on preparing the data and the second on plotting the data. Each part is evaluated separately. Meaning that you can still get the points for preparing the data even if you don't manage to plot it correctly.\n",
    "\n",
    "<div class=\"alert alert-info\"><b>Exercise 9 </b>Write the code to plot the total number of stops per year.<br/><ol><li>Write the code to store the x and y data for your plot in <b>list</b> form in new variables called <i>x</i> and <i>y</i>.</li>\n",
    "    <li>Write the code to plot these data using a <b>line</b> plot. Initialize your plot to a figure called <i>fig</i>. Set the line's color to red and the plot's title to <i>Number of people stopped</i>.</li></ol></div>\n",
    "    \n",
    "<img src='https://www.dropbox.com/s/kzl11tmze6kjvrf/ex9.png?raw=1' width=500>"
   ]
  },
  {
   "cell_type": "code",
   "execution_count": 21,
   "metadata": {
    "deletable": false,
    "nbgrader": {
     "cell_type": "code",
     "checksum": "8fad484b47171308eea09a2f606c38e9",
     "grade": false,
     "grade_id": "cell-7b7677b51c979926",
     "locked": false,
     "schema_version": 3,
     "solution": true,
     "task": false
    }
   },
   "outputs": [],
   "source": [
    "import pandas as pd\n",
    "import numpy as np\n",
    "import matplotlib.pyplot as plt\n",
    "\n",
    "police = pd.read_csv('police_stats.csv')"
   ]
  },
  {
   "cell_type": "code",
   "execution_count": 22,
   "metadata": {},
   "outputs": [
    {
     "data": {
      "text/plain": [
       "Text(0.5, 1.0, 'Number of people stopped')"
      ]
     },
     "execution_count": 22,
     "metadata": {},
     "output_type": "execute_result"
    },
    {
     "data": {
      "image/png": "[encoded data removed]",
      "text/plain": [
       "<Figure size 432x288 with 1 Axes>"
      ]
     },
     "metadata": {
      "needs_background": "light"
     },
     "output_type": "display_data"
    }
   ],
   "source": [
    "x=police[\"year\"].unique()\n",
    "y=(police.groupby('year').count())[\"ethnicity\"]\n",
    "\n",
    "fig = plt.figure()\n",
    "plt.plot(x, y, color=\"red\")\n",
    "plt.title('Number of people stopped')"
   ]
  },
  {
   "cell_type": "markdown",
   "metadata": {
    "nbgrader": {
     "cell_type": "markdown",
     "checksum": "e18f275f061cc54b23e3995751a0a96f",
     "grade": false,
     "grade_id": "cell-55280e0ce5072144",
     "locked": true,
     "schema_version": 3,
     "solution": false,
     "task": false
    }
   },
   "source": [
    "<div class=\"alert alert-info\"><b>Task 10 </b>Write the code to plot the total number of stops per ethnicity for every year.<br/><ol><li>Write the code to store the x data for your plot in <b>list</b> form in a new variable called <i>x</i>. Store the y data for your plot in <b>list</b> form in separate variables called <i>y_black</i>, <i>y_white</i>, <i>y_asian</i> and <i>y_other</i>.</li>\n",
    "    <li>Write the code to plot these data using a <b>line</b> plot. Initialize your plot to a figure called <i>fig</i>. Set the line's color for \"Black\" to red, for \"White\" to black, for \"Asian\" to darkgray and for \"Other\" to lightgray. Set the plot's title to <i>Number of people stopped by ethnicity</i>. Make sure a legend appears to the <b>upper left</b> of your plot and that the labels in the legend correspond <b>exactly</b> to the different categories of the <i>ethnicity</i> attribute.</li></ol></div>\n",
    "    \n",
    "<img src='https://www.dropbox.com/s/kzl11tmze6kjvrf/ex10.png?raw=1' width=500>"
   ]
  },
  {
   "cell_type": "code",
   "execution_count": 23,
   "metadata": {
    "deletable": false,
    "nbgrader": {
     "cell_type": "code",
     "checksum": "1e9d34a4b59f499ccaac6c646d63871f",
     "grade": false,
     "grade_id": "cell-b7b626b4a3bd1fca",
     "locked": false,
     "schema_version": 3,
     "solution": true,
     "task": false
    }
   },
   "outputs": [
    {
     "data": {
      "text/plain": [
       "<matplotlib.legend.Legend at 0x180fca102e0>"
      ]
     },
     "execution_count": 23,
     "metadata": {},
     "output_type": "execute_result"
    },
    {
     "data": {
      "image/png": "[encoded data removed]",
      "text/plain": [
       "<Figure size 432x288 with 1 Axes>"
      ]
     },
     "metadata": {
      "needs_background": "light"
     },
     "output_type": "display_data"
    }
   ],
   "source": [
    "import matplotlib.pyplot as plt\n",
    "y_black=(police.loc[police[\"ethnicity\"]==\"Black\"].groupby('year').count())[\"ethnicity\"]\n",
    "y_white=(police.loc[police[\"ethnicity\"]==\"White\"].groupby('year').count())[\"ethnicity\"]\n",
    "y_asian=(police.loc[police[\"ethnicity\"]==\"Asian\"].groupby('year').count())[\"ethnicity\"]\n",
    "y_other=(police.loc[police[\"ethnicity\"]==\"Other\"].groupby('year').count())[\"ethnicity\"]\n",
    "\n",
    "fig = plt.figure() #figsize=(10,6)\n",
    "y=[y_black, y_white, y_asian, y_other]\n",
    "colors=[\"red\",\"black\",\"darkgray\",\"lightgray\"]\n",
    "legends=[\"Black\", \"White\",\"Asian\", \"Other\"]\n",
    "\n",
    "for i, color, legend in zip(y,colors,legends):\n",
    "    x=police[\"year\"].unique()\n",
    "    y=i\n",
    "    color\n",
    "    plt.plot(x, y, color=color, label=legend)\n",
    "    plt.title('Number of people stopped by ethnicity')\n",
    "plt.legend(loc='upper left')"
   ]
  },
  {
   "cell_type": "markdown",
   "metadata": {
    "nbgrader": {
     "cell_type": "markdown",
     "checksum": "563b4778b8cb2438a48c890359f48a01",
     "grade": false,
     "grade_id": "cell-2acc7b7d40dae159",
     "locked": true,
     "schema_version": 3,
     "solution": false,
     "task": false
    }
   },
   "source": [
    "For those people who where initially stopped, let's now take a look at the percentage that got arrested. \n",
    "\n",
    "<div class=\"alert alert-info\"><b>Exercise 11 </b>Write the code to plot the percentage of arrests per ethnicity for every year.<br/><ol><li>Write the code to store the x data for your plot in <b>list</b> form in a new variable called <i>x</i>. Store the y data for your plot in <b>list</b> form in separate variables called <i>y_black_arrested</i>, <i>y_white_arrested</i>, <i>y_asian_arrested</i> and <i>y_other_arrested</i>. These values should show the percentage of arrested individuals with respect to the number of stopped people, for each listed race.</li>\n",
    "    <li>Write the code to plot these data using a <b>scatter</b> plot. Initialize your plot to a figure called <i>fig</i>. Set the line's color for \"Black\" to red, for \"White\" to black, for \"Asian\" to darkgray and for \"Other\" to lightgray. Set the plot's title to <i>Percentage of people arrested by ethnicity</i>. Make sure a legend appears to the <b>lower right</b> of your plot and that the labels in the legend correspond to the different categories of the <i>ethnicity</i> attribute.</li></ol></div>\n",
    "\n",
    "<img src='https://www.dropbox.com/s/az9a49wd5k8ppxz/ex11.png?raw=1' width=500>"
   ]
  },
  {
   "cell_type": "code",
   "execution_count": 24,
   "metadata": {
    "deletable": false,
    "nbgrader": {
     "cell_type": "code",
     "checksum": "7358255295a6139d5869e476e1899961",
     "grade": false,
     "grade_id": "cell-b116f3e9626f8ea1",
     "locked": false,
     "schema_version": 3,
     "solution": true,
     "task": false
    }
   },
   "outputs": [
    {
     "data": {
      "text/plain": [
       "<matplotlib.legend.Legend at 0x18130fd6fd0>"
      ]
     },
     "execution_count": 24,
     "metadata": {},
     "output_type": "execute_result"
    },
    {
     "data": {
      "image/png": "[encoded data removed]",
      "text/plain": [
       "<Figure size 432x288 with 1 Axes>"
      ]
     },
     "metadata": {
      "needs_background": "light"
     },
     "output_type": "display_data"
    }
   ],
   "source": [
    "y_black_arrested=(100*(police.loc[police[\"ethnicity\"]==\"Black\"].groupby('year').sum()[\"arrest\"])/(police.loc[police[\"ethnicity\"]==\"Black\"].groupby('year').count())[\"ethnicity\"]).to_list()\n",
    "y_white_arrested=(100*(police.loc[police[\"ethnicity\"]==\"White\"].groupby('year').sum()[\"arrest\"])/(police.loc[police[\"ethnicity\"]==\"White\"].groupby('year').count())[\"ethnicity\"]).to_list()\n",
    "y_asian_arrested=(100*(police.loc[police[\"ethnicity\"]==\"Asian\"].groupby('year').sum()[\"arrest\"])/(police.loc[police[\"ethnicity\"]==\"Asian\"].groupby('year').count())[\"ethnicity\"]).to_list()\n",
    "y_other_arrested=(100*(police.loc[police[\"ethnicity\"]==\"Other\"].groupby('year').sum()[\"arrest\"])/(police.loc[police[\"ethnicity\"]==\"Other\"].groupby('year').count())[\"ethnicity\"]).to_list()\n",
    "y=[y_black_arrested, y_white_arrested, y_asian_arrested, y_other_arrested]\n",
    "x=police[\"year\"].unique()\n",
    "\n",
    "fig = plt.figure()\n",
    "colors=[\"red\",\"black\",\"darkgray\",\"lightgray\"]\n",
    "legends=[\"Black\", \"White\",\"Asian\", \"Other\"]\n",
    "\n",
    "for i, color, legend in zip(y,colors,legends):\n",
    "    y=i\n",
    "    color\n",
    "    plt.scatter(x, y, color=color, label=legend)\n",
    "    plt.title('Percentage of people arrested by ethnicity')\n",
    "plt.legend(loc='lower right')"
   ]
  },
  {
   "cell_type": "markdown",
   "metadata": {
    "nbgrader": {
     "cell_type": "markdown",
     "checksum": "7fd9ffc61f82598afdc4fcdf2a968c73",
     "grade": false,
     "grade_id": "cell-1a58acf09688e2ce",
     "locked": true,
     "schema_version": 3,
     "solution": false,
     "task": false
    }
   },
   "source": [
    "## Bonus exercise\n",
    "\n",
    "For the bonus exercises, we will take a look at the remaining data.\n",
    "\n",
    "We will begin by analising the percentage of individuals who were carrying a weapon when found and those for whom the police used physical force among those who where initially stopped.\n",
    "\n",
    "<div class=\"alert alert-danger\"><b>Bonus 1 </b>Write the code to plot the percentage of people who where found carrying a weapon and the percentage of people with whom the police used physical force per ethnicity for every year.<br/><ol><li>Write the code to store the x data for your plot in <b>list</b> form in a new variable called <i>x</i>. Store the y data for your plot in <b>list</b> form in separate variables called <i>y_black_weapon</i>, <i>y_white_weapon</i>, <i>y_asian_weapon</i>, <i>y_other_weapon</i>, <i>y_black_physical_force</i>, <i>y_white_physical_force</i>, <i>y_asian_physical_force</i> and <i>y_other_physical_force</i>. The first four lists should include the percentage of individuals who were found to carry a weapon with respect to the number of stopped people, for each listed ethnicity and for every year. The last four lists should include the percentage of individuals with whom the police used physical force with respect to the number of stopped people, for each listed ethnicity and for every year.</li>\n",
    "    <li>Write the code to plot these data using two different <b>line</b> plots. Initialize your plot to a figure called <i>fig</i>. Use two different subplots, one for each case. They should both appear side by side. Plot the <i>weapons</i> data to the left and the <i>physical_force</i> data to the right. Set the first plot's title to <i>Percentage of people found carrying a weapon by ethnicity</i> and second plot's title to <i>Percentage of people for which the police used physical force by ethnicity</i>. Set the line's color for \"Black\" to red, for \"White\" to black, for \"Asian\" to darkgray and for \"Other\" to lightgray for both plots. Use dashed lines for the <i>weapons</i> plot and dotted lines for the <i>physical_force</i> plot. Make sure a legend appears to the <b>upper left</b> of your <i>weapons</i> plot and to the <b>upper right</b> of your <i>physical_force</i> plot and that the labels correspond to the different categories of the <i>ethnicity</i> attribute in both cases.</li></ol></div>\n",
    "\n",
    "<img src='https://www.dropbox.com/s/4mjq080fb3pl0eb/b1.png?raw=1' width=800>"
   ]
  },
  {
   "cell_type": "code",
   "execution_count": 25,
   "metadata": {
    "deletable": false,
    "nbgrader": {
     "cell_type": "code",
     "checksum": "880ff70985683a5069719164c0230dbf",
     "grade": false,
     "grade_id": "cell-54d3f0f786953969",
     "locked": false,
     "schema_version": 3,
     "solution": true,
     "task": false
    }
   },
   "outputs": [
    {
     "data": {
      "text/plain": [
       "<matplotlib.legend.Legend at 0x18130d09760>"
      ]
     },
     "execution_count": 25,
     "metadata": {},
     "output_type": "execute_result"
    },
    {
     "data": {
      "image/png": "[encoded data removed]",
      "text/plain": [
       "<Figure size 1080x432 with 2 Axes>"
      ]
     },
     "metadata": {
      "needs_background": "light"
     },
     "output_type": "display_data"
    }
   ],
   "source": [
    "y_black_weapon=(100*(police.loc[police[\"ethnicity\"]==\"Black\"].groupby('year').sum()[\"weapons\"])/(police.loc[police[\"ethnicity\"]==\"Black\"].groupby('year').count())[\"ethnicity\"]).to_list()\n",
    "y_white_weapon=(100*(police.loc[police[\"ethnicity\"]==\"White\"].groupby('year').sum()[\"weapons\"])/(police.loc[police[\"ethnicity\"]==\"White\"].groupby('year').count())[\"ethnicity\"]).to_list()\n",
    "y_asian_weapon=(100*(police.loc[police[\"ethnicity\"]==\"Asian\"].groupby('year').sum()[\"weapons\"])/(police.loc[police[\"ethnicity\"]==\"Asian\"].groupby('year').count())[\"ethnicity\"]).to_list()\n",
    "y_other_weapon=(100*(police.loc[police[\"ethnicity\"]==\"Other\"].groupby('year').sum()[\"weapons\"])/(police.loc[police[\"ethnicity\"]==\"Other\"].groupby('year').count())[\"ethnicity\"]).to_list()\n",
    "y_black_physical_force=(100*(police.loc[police[\"ethnicity\"]==\"Black\"].groupby('year').sum()[\"physical_force\"])/(police.loc[police[\"ethnicity\"]==\"Black\"].groupby('year').count())[\"ethnicity\"]).to_list()\n",
    "y_white_physical_force=(100*(police.loc[police[\"ethnicity\"]==\"White\"].groupby('year').sum()[\"physical_force\"])/(police.loc[police[\"ethnicity\"]==\"White\"].groupby('year').count())[\"ethnicity\"]).to_list()\n",
    "y_asian_physical_force=(100*(police.loc[police[\"ethnicity\"]==\"Asian\"].groupby('year').sum()[\"physical_force\"])/(police.loc[police[\"ethnicity\"]==\"Asian\"].groupby('year').count())[\"ethnicity\"]).to_list()\n",
    "y_other_physical_force=(100*(police.loc[police[\"ethnicity\"]==\"Other\"].groupby('year').sum()[\"physical_force\"])/(police.loc[police[\"ethnicity\"]==\"Other\"].groupby('year').count())[\"ethnicity\"]).to_list()\n",
    "\n",
    "y_weapon=[y_black_weapon, y_white_weapon, y_asian_weapon, y_other_weapon]\n",
    "y_physical_force=[y_black_physical_force, y_white_physical_force, y_asian_physical_force, y_other_physical_force]\n",
    "\n",
    "x=police[\"year\"].unique()\n",
    "\n",
    "colors=[\"red\",\"black\",\"darkgray\",\"lightgray\"]\n",
    "legends=[\"Black\", \"White\",\"Asian\", \"Other\"]\n",
    "\n",
    "fig = plt.figure(figsize=(15,6)) #if I do not specify the size, there is an issue\n",
    "\n",
    "fig1 = plt.subplot(1,2,1)\n",
    "for i, color, legend in zip(y_weapon,colors,legends):\n",
    "    y=i\n",
    "    plt.plot(x, y, linestyle='dashed', color=color, label=legend)\n",
    "plt.title('Percentage of people found carrying a weapon by ethnicity')\n",
    "plt.legend(loc='upper left')\n",
    "\n",
    "fig2 = plt.subplot(1,2,2)\n",
    "for i, color, legend in zip(y_physical_force,colors,legends):\n",
    "    y=i\n",
    "    plt.plot(x, y, linestyle='dotted', color=color, label=legend)\n",
    "plt.title('Percentage of people for which the police used physical force by ethnicity')\n",
    "plt.legend(loc='upper right')"
   ]
  },
  {
   "cell_type": "markdown",
   "metadata": {
    "deletable": false,
    "editable": false,
    "nbgrader": {
     "cell_type": "markdown",
     "checksum": "97354043f471d818785c0f8f33b884ef",
     "grade": false,
     "grade_id": "cell-607ac9ca0cf526b9",
     "locked": true,
     "schema_version": 3,
     "solution": false,
     "task": false
    }
   },
   "source": [
    "<div class=\"alert alert-danger\"><b>Bonus 2 </b>Write the code to plot the total number of stops per borough for every year.<br/><ol><li>Write the code to store the x data for your plot in <b>list</b> form in a new variable called <i>x</i>. Store the y data for your plot in <b>list</b> form in separate variables called <i>y_manhattan</i>, <i>y_brooklyn</i>, <i>y_bronx</i>, <i>y_queens</i> and <i>y_staten_island</i>.</li>\n",
    "<li>Write the code to plot these data using a stacked bar plot. Initialize your plot to a figure called <i>fig</i>. Set the bar's color for \"Manhattan\" to e63946, for \"Brooklyn\" to f1faee, for \"Bronx\" to a8dadc, for \"Queens\" to 457b9d and for \"Staten Island\" to 1d3557. Set the plot's title to <i>People stopped by borough</i>. Make sure a legend appears to the <b>upper left</b> of your plot and that the labels in the legend correspond to the different categories of the <i>boro</i> attribute.</li></ol></div>\n",
    "\n",
    "<img src='https://www.dropbox.com/s/kmsggqo58s7gnja/b2.png?raw=1' width=500>"
   ]
  },
  {
   "cell_type": "code",
   "execution_count": 26,
   "metadata": {
    "deletable": false,
    "nbgrader": {
     "cell_type": "code",
     "checksum": "71fc34c8075b9df0092fb42ebb472af4",
     "grade": false,
     "grade_id": "cell-1f850f21680502c4",
     "locked": false,
     "schema_version": 3,
     "solution": true,
     "task": false
    }
   },
   "outputs": [
    {
     "data": {
      "text/plain": [
       "Text(0.5, 1.0, 'People stopped by borough')"
      ]
     },
     "execution_count": 26,
     "metadata": {},
     "output_type": "execute_result"
    },
    {
     "data": {
      "image/png": "[encoded data removed]",
      "text/plain": [
       "<Figure size 432x288 with 1 Axes>"
      ]
     },
     "metadata": {
      "needs_background": "light"
     },
     "output_type": "display_data"
    }
   ],
   "source": [
    "y_manhattan=police.loc[police[\"boro\"]==\"Manhattan\"].groupby(\"year\").count()[\"boro\"].to_list()\n",
    "y_brooklyn=police.loc[police[\"boro\"]==\"Brooklyn\"].groupby(\"year\").count()[\"boro\"].to_list()\n",
    "y_bronx=police.loc[police[\"boro\"]==\"Bronx\"].groupby(\"year\").count()[\"boro\"].to_list()\n",
    "y_queens=police.loc[police[\"boro\"]==\"Queens\"].groupby(\"year\").count()[\"boro\"].to_list()\n",
    "y_staten_island=police.loc[police[\"boro\"]==\"Staten Island\"].groupby(\"year\").count()[\"boro\"].to_list()\n",
    "\n",
    "x=police[\"year\"].unique()\n",
    "bottom_2=y_manhattan\n",
    "bottom_3=np.add(y_manhattan, y_brooklyn).tolist()\n",
    "bottom_4=np.add(bottom_3, y_bronx).tolist()\n",
    "bottom_5=np.add(bottom_4, y_queens).tolist()\n",
    "\n",
    "manhattan=plt.bar(x, y_manhattan, color='#e63946')\n",
    "brooklyn=plt.bar(x, y_brooklyn, bottom=bottom_2, color='#f1faee')\n",
    "bronx=plt.bar(x, y_bronx, bottom=bottom_3, color='#a8dadc')\n",
    "queens=plt.bar(x, y_queens, bottom=bottom_4, color='#457b9d')\n",
    "staten_island=plt.bar(x, y_staten_island, bottom=bottom_5, color='#1d3557')\n",
    "\n",
    "plt.legend((manhattan, brooklyn, bronx, queens, staten_island),\n",
    "           ('Manhattan', 'Brooklyn', 'Bronx', 'Queens','Staten Island'),\n",
    "           loc='upper left')\n",
    "plt.title('People stopped by borough')"
   ]
  }
 ],
 "metadata": {
  "celltoolbar": "Edit Metadata",
  "kernelspec": {
   "display_name": "Python 3",
   "language": "python",
   "name": "python3"
  },
  "language_info": {
   "codemirror_mode": {
    "name": "ipython",
    "version": 3
   },
   "file_extension": ".py",
   "mimetype": "text/x-python",
   "name": "python",
   "nbconvert_exporter": "python",
   "pygments_lexer": "ipython3",
   "version": "3.8.10"
  }
 },
 "nbformat": 4,
 "nbformat_minor": 4
}
